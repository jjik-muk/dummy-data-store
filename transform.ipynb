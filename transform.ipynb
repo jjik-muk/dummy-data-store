{
 "cells": [
  {
   "cell_type": "code",
   "execution_count": 1,
   "metadata": {
    "collapsed": true,
    "pycharm": {
     "name": "#%%\n"
    }
   },
   "outputs": [],
   "source": [
    "import pandas as pd\n",
    "import numpy as np\n",
    "import pyproj"
   ]
  },
  {
   "cell_type": "code",
   "execution_count": 3,
   "outputs": [
    {
     "name": "stderr",
     "output_type": "stream",
     "text": [
      "/var/folders/_2/tym68nn973j_g5h4jw45p8180000gn/T/ipykernel_60415/488824028.py:2: DtypeWarning: Columns (22,27,39,41,44,45) have mixed types. Specify dtype option on import or set low_memory=False.\n",
      "  df = pd.read_csv('./fulldata_07_24_04_P_일반음식점.csv',encoding='cp949')\n"
     ]
    },
    {
     "data": {
      "text/plain": "2012833"
     },
     "execution_count": 3,
     "metadata": {},
     "output_type": "execute_result"
    }
   ],
   "source": [
    "# read 전체 데이터\n",
    "df = pd.read_csv('./fulldata_07_24_04_P_일반음식점.csv',encoding='cp949')\n",
    "len(df)"
   ],
   "metadata": {
    "collapsed": false,
    "pycharm": {
     "name": "#%%\n"
    }
   }
  },
  {
   "cell_type": "code",
   "execution_count": 4,
   "outputs": [
    {
     "data": {
      "text/plain": "689698"
     },
     "execution_count": 4,
     "metadata": {},
     "output_type": "execute_result"
    }
   ],
   "source": [
    "# 폐업 필터링\n",
    "mask = df.영업상태명 != \"폐업\"\n",
    "df = df.loc[mask,:]\n",
    "\n",
    "# 좌표 데이터 타입 numberic으로 변경\n",
    "df['좌표정보(x)'] = pd.to_numeric(df['좌표정보(x)'], errors=\"coerce\")\n",
    "df['좌표정보(y)'] = pd.to_numeric(df['좌표정보(y)'], errors=\"coerce\")\n",
    "\n",
    "len(df)"
   ],
   "metadata": {
    "collapsed": false,
    "pycharm": {
     "name": "#%%\n"
    }
   }
  },
  {
   "cell_type": "code",
   "execution_count": 5,
   "outputs": [
    {
     "name": "stderr",
     "output_type": "stream",
     "text": [
      "/Users/kukim/PycharmProjects/pythonProject/venv/lib/python3.9/site-packages/pyproj/crs/crs.py:130: FutureWarning: '+init=<authority>:<code>' syntax is deprecated. '<authority>:<code>' is the preferred initialization method. When making the change, be mindful of axis order changes: https://pyproj4.github.io/pyproj/stable/gotchas.html#axis-order-changes-in-proj-6\n",
      "  in_crs_string = _prepare_from_proj_string(in_crs_string)\n",
      "/Users/kukim/PycharmProjects/pythonProject/venv/lib/python3.9/site-packages/pyproj/crs/crs.py:130: FutureWarning: '+init=<authority>:<code>' syntax is deprecated. '<authority>:<code>' is the preferred initialization method. When making the change, be mindful of axis order changes: https://pyproj4.github.io/pyproj/stable/gotchas.html#axis-order-changes-in-proj-6\n",
      "  in_crs_string = _prepare_from_proj_string(in_crs_string)\n",
      "/var/folders/_2/tym68nn973j_g5h4jw45p8180000gn/T/ipykernel_60415/2306189217.py:10: DeprecationWarning: This function is deprecated. See: https://pyproj4.github.io/pyproj/stable/gotchas.html#upgrading-to-pyproj-2-from-pyproj-1\n",
      "  fx, fy = pyproj.transform(p1, p2, coord[:, 26], coord[:, 27])\n"
     ]
    }
   ],
   "source": [
    "\n",
    "def project_array(coord, p1_type, p2_type):\n",
    "    \"\"\"\n",
    "    좌표계 변환 함수\n",
    "    - coord: x, y 좌표 정보가 담긴 NumPy Array\n",
    "    - p1_type: 입력 좌표계 정보 ex) epsg:5179\n",
    "    - p2_type: 출력 좌표계 정보 ex) epsg:4326\n",
    "    \"\"\"\n",
    "    p1 = pyproj.Proj(init=p1_type)\n",
    "    p2 = pyproj.Proj(init=p2_type)\n",
    "    fx, fy = pyproj.transform(p1, p2, coord[:, 26], coord[:, 27])\n",
    "    return np.dstack([fx, fy])[0]\n",
    "\n",
    "\n",
    "# DataFrame -> NumPy Array 변환\n",
    "coord = np.array(df)\n",
    "\n",
    "# 좌표계 정보 설정\n",
    "p1_type = \"epsg:2097\"\n",
    "p2_type = \"epsg:4326\"\n",
    "\n",
    "# project_array() 함수 실행\n",
    "result = project_array(coord, p1_type, p2_type)\n",
    "\n",
    "\n",
    "df['좌표정보(x)'] = result[:, 1]\n",
    "df['좌표정보(y)'] = result[:, 0]"
   ],
   "metadata": {
    "collapsed": false,
    "pycharm": {
     "name": "#%%\n"
    }
   }
  },
  {
   "cell_type": "code",
   "execution_count": 6,
   "outputs": [
    {
     "data": {
      "text/plain": "387351"
     },
     "execution_count": 6,
     "metadata": {},
     "output_type": "execute_result"
    }
   ],
   "source": [
    "data = df.iloc[:, [15, 19, 21, 26, 27]]\n",
    "data.columns = ['contactNumber','address','storeName','latitude', 'longitude']\n",
    "data = data[data.address.apply(lambda x: len(str(x).split(\",\")) == 2)]\n",
    "data['baseAddress'] = data.address.apply(lambda x: str(x).split(\",\")[0])\n",
    "data['detailAddress'] = data.address.apply(lambda x: str(x).split(\",\")[1])\n",
    "\n",
    "len(data)"
   ],
   "metadata": {
    "collapsed": false,
    "pycharm": {
     "name": "#%%\n"
    }
   }
  },
  {
   "cell_type": "code",
   "execution_count": 7,
   "outputs": [],
   "source": [
    "filtered_df=data.loc[:,data.columns!=\"address\"]\n",
    "\n",
    "filtered_df.to_csv('./done.csv',index = False, header=True)"
   ],
   "metadata": {
    "collapsed": false,
    "pycharm": {
     "name": "#%%\n"
    }
   }
  },
  {
   "cell_type": "code",
   "execution_count": 8,
   "outputs": [
    {
     "data": {
      "text/plain": "        contactNumber       storeName   latitude   longitude  \\\n1323135           NaN          명품스테이크  37.442487  127.146131   \n1323136           NaN      79대포 안성공도점  37.000065  127.166656   \n1323137           NaN  맛있어2(Masisso2)  37.001180  127.220998   \n1323138           NaN    푸드 딜리버리 영등포점  37.509676  126.904280   \n1323139           NaN          수벙샌드위치  35.306876  128.985118   \n\n                     baseAddress      detailAddress  \n1323135  경기도 성남시 수정구 산성대로295번길 9       1(일부)층 (신흥동)  \n1323136     경기도 안성시 공도읍 공도3로 9-9   공도 일번가타워 1층 107호  \n1323137  경기도 안성시 대덕면 중앙대학로 116-1                 2층  \n1323138     서울특별시 영등포구 도신로33길 11           1층 (도림동)  \n1323139   경상남도 양산시 물금읍 버들2길 7-13              1층 일부  ",
      "text/html": "<div>\n<style scoped>\n    .dataframe tbody tr th:only-of-type {\n        vertical-align: middle;\n    }\n\n    .dataframe tbody tr th {\n        vertical-align: top;\n    }\n\n    .dataframe thead th {\n        text-align: right;\n    }\n</style>\n<table border=\"1\" class=\"dataframe\">\n  <thead>\n    <tr style=\"text-align: right;\">\n      <th></th>\n      <th>contactNumber</th>\n      <th>storeName</th>\n      <th>latitude</th>\n      <th>longitude</th>\n      <th>baseAddress</th>\n      <th>detailAddress</th>\n    </tr>\n  </thead>\n  <tbody>\n    <tr>\n      <th>1323135</th>\n      <td>NaN</td>\n      <td>명품스테이크</td>\n      <td>37.442487</td>\n      <td>127.146131</td>\n      <td>경기도 성남시 수정구 산성대로295번길 9</td>\n      <td>1(일부)층 (신흥동)</td>\n    </tr>\n    <tr>\n      <th>1323136</th>\n      <td>NaN</td>\n      <td>79대포 안성공도점</td>\n      <td>37.000065</td>\n      <td>127.166656</td>\n      <td>경기도 안성시 공도읍 공도3로 9-9</td>\n      <td>공도 일번가타워 1층 107호</td>\n    </tr>\n    <tr>\n      <th>1323137</th>\n      <td>NaN</td>\n      <td>맛있어2(Masisso2)</td>\n      <td>37.001180</td>\n      <td>127.220998</td>\n      <td>경기도 안성시 대덕면 중앙대학로 116-1</td>\n      <td>2층</td>\n    </tr>\n    <tr>\n      <th>1323138</th>\n      <td>NaN</td>\n      <td>푸드 딜리버리 영등포점</td>\n      <td>37.509676</td>\n      <td>126.904280</td>\n      <td>서울특별시 영등포구 도신로33길 11</td>\n      <td>1층 (도림동)</td>\n    </tr>\n    <tr>\n      <th>1323139</th>\n      <td>NaN</td>\n      <td>수벙샌드위치</td>\n      <td>35.306876</td>\n      <td>128.985118</td>\n      <td>경상남도 양산시 물금읍 버들2길 7-13</td>\n      <td>1층 일부</td>\n    </tr>\n  </tbody>\n</table>\n</div>"
     },
     "execution_count": 8,
     "metadata": {},
     "output_type": "execute_result"
    }
   ],
   "source": [
    "\n",
    "filtered_df.head()"
   ],
   "metadata": {
    "collapsed": false,
    "pycharm": {
     "name": "#%%\n"
    }
   }
  }
 ],
 "metadata": {
  "kernelspec": {
   "display_name": "Python 3",
   "language": "python",
   "name": "python3"
  },
  "language_info": {
   "codemirror_mode": {
    "name": "ipython",
    "version": 2
   },
   "file_extension": ".py",
   "mimetype": "text/x-python",
   "name": "python",
   "nbconvert_exporter": "python",
   "pygments_lexer": "ipython2",
   "version": "2.7.6"
  }
 },
 "nbformat": 4,
 "nbformat_minor": 0
}